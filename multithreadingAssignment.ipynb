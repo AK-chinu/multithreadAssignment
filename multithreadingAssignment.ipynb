{
 "cells": [
  {
   "cell_type": "markdown",
   "id": "240e4cad-b815-43df-aa30-b2d4e48fd152",
   "metadata": {},
   "source": [
    "Multithreading in Python refers to the capability of a program to execute multiple threads concurrently. A thread is a sequence of instructions that can be executed independently of other threads, allowing for concurrent execution of tasks within a single process.\n",
    "\n",
    "Multithreading is used to improve the performance of programs that can benefit from parallel execution of tasks. This is particularly useful for tasks that involve I/O-bound operations, such as reading from or writing to files, network communication, or accessing databases. By using multithreading, you can make more efficient use of system resources and reduce the overall execution time of your program.\n",
    "\n",
    "In Python, the threading module is commonly used to handle threads. This module provides a high-level interface for creating and managing threads. You can create a new thread by subclassing the threading.Thread class and implementing the run() method, or by passing a target function to the Thread constructor. The threading module also provides synchronization primitives like locks, semaphores, and condition variables to coordinate access to shared resources among multiple threads.\n",
    "\n",
    "\n",
    "\n",
    "\n",
    "\n"
   ]
  },
  {
   "cell_type": "code",
   "execution_count": null,
   "id": "4a4bcd24-d405-4e02-b3a4-36a3615e2c62",
   "metadata": {},
   "outputs": [],
   "source": []
  },
  {
   "cell_type": "markdown",
   "id": "f3971099-b6d5-4540-963d-2b579dce311d",
   "metadata": {},
   "source": [
    "activeCount(): This function returns the number of Thread objects currently alive. It is often used to monitor the number of active threads in a program."
   ]
  },
  {
   "cell_type": "code",
   "execution_count": 1,
   "id": "8a8c00a2-175d-4488-b349-d329ddb5d9b9",
   "metadata": {},
   "outputs": [
    {
     "name": "stdout",
     "output_type": "stream",
     "text": [
      "Working...\n",
      "Working...\n",
      "Working...\n",
      "Working...\n",
      "Working...\n",
      "Active threads: 8\n"
     ]
    },
    {
     "name": "stderr",
     "output_type": "stream",
     "text": [
      "/tmp/ipykernel_77/1750075326.py:15: DeprecationWarning: activeCount() is deprecated, use active_count() instead\n",
      "  print(\"Active threads:\", threading.activeCount())\n"
     ]
    }
   ],
   "source": [
    "import threading\n",
    "\n",
    "# Function to be executed by threads\n",
    "def worker():\n",
    "    print(\"Working...\")\n",
    "\n",
    "# Creating multiple threads\n",
    "threads = [threading.Thread(target=worker) for _ in range(5)]\n",
    "\n",
    "# Start the threads\n",
    "for thread in threads:\n",
    "    thread.start()\n",
    "\n",
    "# Print the number of active threads\n",
    "print(\"Active threads:\", threading.activeCount())\n"
   ]
  },
  {
   "cell_type": "markdown",
   "id": "9e194ba1-179c-4b46-9d50-2c2943c11319",
   "metadata": {},
   "source": [
    "currentThread(): This function returns the current Thread object. It's useful to obtain information about the currently executing thread"
   ]
  },
  {
   "cell_type": "code",
   "execution_count": 2,
   "id": "32066722-b36c-46a7-8014-0fc497c980bd",
   "metadata": {},
   "outputs": [
    {
     "name": "stdout",
     "output_type": "stream",
     "text": [
      "Thread name: Thread-10 (worker)\n"
     ]
    },
    {
     "name": "stderr",
     "output_type": "stream",
     "text": [
      "/tmp/ipykernel_77/687907427.py:5: DeprecationWarning: currentThread() is deprecated, use current_thread() instead\n",
      "  print(\"Thread name:\", threading.currentThread().getName())\n",
      "/tmp/ipykernel_77/687907427.py:5: DeprecationWarning: getName() is deprecated, get the name attribute instead\n",
      "  print(\"Thread name:\", threading.currentThread().getName())\n"
     ]
    }
   ],
   "source": [
    "import threading\n",
    "\n",
    "# Function to be executed by threads\n",
    "def worker():\n",
    "    print(\"Thread name:\", threading.currentThread().getName())\n",
    "\n",
    "# Creating a thread\n",
    "thread = threading.Thread(target=worker)\n",
    "\n",
    "# Start the thread\n",
    "thread.start()\n"
   ]
  },
  {
   "cell_type": "code",
   "execution_count": null,
   "id": "3ebea7c9-2bb0-45a3-97a9-cfa4cbd0778a",
   "metadata": {},
   "outputs": [],
   "source": []
  },
  {
   "cell_type": "markdown",
   "id": "3b164ce8-d4e3-4935-895a-229cc10c7adf",
   "metadata": {},
   "source": [
    "run(): This method is called when the Thread object's start() method is invoked. It represents the entry point of the thread's activity. When you subclass Thread and override the run() method with your own implementation, the code you put in the run() method will be executed in a separate thread when start() is called."
   ]
  },
  {
   "cell_type": "code",
   "execution_count": 3,
   "id": "6737a808-875e-4a00-96cd-250b69d59772",
   "metadata": {},
   "outputs": [
    {
     "name": "stdout",
     "output_type": "stream",
     "text": [
      "Thread is running\n"
     ]
    }
   ],
   "source": [
    "import threading\n",
    "\n",
    "class MyThread(threading.Thread):\n",
    "    def run(self):\n",
    "        print(\"Thread is running\")\n",
    "\n",
    "# Create an instance of MyThread\n",
    "my_thread = MyThread()\n",
    "\n",
    "# Call the start method, which in turn calls the run method\n",
    "my_thread.start()\n"
   ]
  },
  {
   "cell_type": "markdown",
   "id": "47722a0a-2c40-44d3-b67a-8fab27c8f2e4",
   "metadata": {},
   "source": [
    "start(): This method is used to start the execution of the thread's activity. It initiates the thread to begin executing the run() method. Calling start() multiple times on the same thread object will raise a RuntimeError."
   ]
  },
  {
   "cell_type": "code",
   "execution_count": 4,
   "id": "9b465989-18b5-43a5-bffe-5b3ef0d8a62e",
   "metadata": {},
   "outputs": [
    {
     "name": "stdout",
     "output_type": "stream",
     "text": [
      "Thread is running\n"
     ]
    }
   ],
   "source": [
    "import threading\n",
    "\n",
    "def my_function():\n",
    "    print(\"Thread is running\")\n",
    "\n",
    "# Create a thread object with the target function\n",
    "my_thread = threading.Thread(target=my_function)\n",
    "\n",
    "# Start the thread\n",
    "my_thread.start()\n"
   ]
  },
  {
   "cell_type": "markdown",
   "id": "fb4bcdd9-a69a-4d98-a1f1-cce5ae351ea5",
   "metadata": {},
   "source": [
    "join(): This method blocks the calling thread until the thread whose join() method is called terminates, either normally or through an unhandled exception, or until the optional timeout occurs. This is useful when you want to wait for a thread to complete its task before proceeding further in the main thread."
   ]
  },
  {
   "cell_type": "code",
   "execution_count": 5,
   "id": "35768a0b-f863-4a83-bf18-f2fe6ab67087",
   "metadata": {},
   "outputs": [
    {
     "name": "stdout",
     "output_type": "stream",
     "text": [
      "Thread is done\n",
      "Main thread exiting\n"
     ]
    }
   ],
   "source": [
    "import threading\n",
    "import time\n",
    "\n",
    "def my_function():\n",
    "    time.sleep(2)\n",
    "    print(\"Thread is done\")\n",
    "\n",
    "# Create a thread object with the target function\n",
    "my_thread = threading.Thread(target=my_function)\n",
    "\n",
    "# Start the thread\n",
    "my_thread.start()\n",
    "\n",
    "# Wait for the thread to finish\n",
    "my_thread.join()\n",
    "print(\"Main thread exiting\")\n"
   ]
  },
  {
   "cell_type": "markdown",
   "id": "2d8f4276-dda0-4c7a-93d7-274f60a0e366",
   "metadata": {},
   "source": [
    "isAlive(): This method returns a boolean indicating whether the thread is alive or not. A thread is considered alive from the moment start() is called on it until it terminates. Once the thread has terminated, calling isAlive() will return False."
   ]
  },
  {
   "cell_type": "code",
   "execution_count": 6,
   "id": "5f4dd397-3804-4fc9-80f0-f5abf80fc745",
   "metadata": {},
   "outputs": [
    {
     "ename": "AttributeError",
     "evalue": "'Thread' object has no attribute 'isAlive'",
     "output_type": "error",
     "traceback": [
      "\u001b[0;31m---------------------------------------------------------------------------\u001b[0m",
      "\u001b[0;31mAttributeError\u001b[0m                            Traceback (most recent call last)",
      "Cell \u001b[0;32mIn[6], line 15\u001b[0m\n\u001b[1;32m     12\u001b[0m my_thread\u001b[38;5;241m.\u001b[39mstart()\n\u001b[1;32m     14\u001b[0m \u001b[38;5;66;03m# Check if the thread is alive\u001b[39;00m\n\u001b[0;32m---> 15\u001b[0m \u001b[38;5;28mprint\u001b[39m(\u001b[38;5;124m\"\u001b[39m\u001b[38;5;124mThread is alive:\u001b[39m\u001b[38;5;124m\"\u001b[39m, \u001b[43mmy_thread\u001b[49m\u001b[38;5;241;43m.\u001b[39;49m\u001b[43misAlive\u001b[49m())\n\u001b[1;32m     17\u001b[0m \u001b[38;5;66;03m# Wait for the thread to finish\u001b[39;00m\n\u001b[1;32m     18\u001b[0m my_thread\u001b[38;5;241m.\u001b[39mjoin()\n",
      "\u001b[0;31mAttributeError\u001b[0m: 'Thread' object has no attribute 'isAlive'"
     ]
    },
    {
     "name": "stdout",
     "output_type": "stream",
     "text": [
      "Thread is done\n"
     ]
    }
   ],
   "source": [
    "import threading\n",
    "import time\n",
    "\n",
    "def my_function():\n",
    "    time.sleep(2)\n",
    "    print(\"Thread is done\")\n",
    "\n",
    "# Create a thread object with the target function\n",
    "my_thread = threading.Thread(target=my_function)\n",
    "\n",
    "# Start the thread\n",
    "my_thread.start()\n",
    "\n",
    "# Check if the thread is alive\n",
    "print(\"Thread is alive:\", my_thread.isAlive())\n",
    "\n",
    "# Wait for the thread to finish\n",
    "my_thread.join()\n",
    "\n",
    "# Check again if the thread is alive\n",
    "print(\"Thread is alive:\", my_thread.isAlive())\n"
   ]
  },
  {
   "cell_type": "code",
   "execution_count": null,
   "id": "42231f71-77bf-499c-917d-7f4ca4247d8b",
   "metadata": {},
   "outputs": [],
   "source": []
  },
  {
   "cell_type": "code",
   "execution_count": 7,
   "id": "f9430dce-6247-4018-b3a3-99014a92b4ae",
   "metadata": {},
   "outputs": [
    {
     "name": "stdout",
     "output_type": "stream",
     "text": [
      "Square of 1 is 1\n",
      "Square of 2 is 4\n",
      "Square of 3 is 9\n",
      "Square of 4 is 16\n",
      "Square of 5 is 25\n",
      "Cube of 1 is 1\n",
      "Cube of 2 is 8\n",
      "Cube of 3 is 27\n",
      "Cube of 4 is 64\n",
      "Cube of 5 is 125\n",
      "Both threads have finished execution.\n"
     ]
    }
   ],
   "source": [
    "import threading\n",
    "\n",
    "# Function to print squares of numbers\n",
    "def print_squares():\n",
    "    for i in range(1, 6):\n",
    "        print(\"Square of\", i, \"is\", i*i)\n",
    "\n",
    "# Function to print cubes of numbers\n",
    "def print_cubes():\n",
    "    for i in range(1, 6):\n",
    "        print(\"Cube of\", i, \"is\", i*i*i)\n",
    "\n",
    "# Creating threads\n",
    "thread1 = threading.Thread(target=print_squares)\n",
    "thread2 = threading.Thread(target=print_cubes)\n",
    "\n",
    "# Starting threads\n",
    "thread1.start()\n",
    "thread2.start()\n",
    "\n",
    "# Waiting for threads to finish\n",
    "thread1.join()\n",
    "thread2.join()\n",
    "\n",
    "print(\"Both threads have finished execution.\")\n"
   ]
  },
  {
   "cell_type": "code",
   "execution_count": null,
   "id": "19aff05f-0bb8-48f3-92df-f1a122c619cc",
   "metadata": {},
   "outputs": [],
   "source": []
  }
 ],
 "metadata": {
  "kernelspec": {
   "display_name": "Python 3 (ipykernel)",
   "language": "python",
   "name": "python3"
  },
  "language_info": {
   "codemirror_mode": {
    "name": "ipython",
    "version": 3
   },
   "file_extension": ".py",
   "mimetype": "text/x-python",
   "name": "python",
   "nbconvert_exporter": "python",
   "pygments_lexer": "ipython3",
   "version": "3.10.8"
  }
 },
 "nbformat": 4,
 "nbformat_minor": 5
}
